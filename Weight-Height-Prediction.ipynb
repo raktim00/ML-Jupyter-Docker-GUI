{
 "cells": [
  {
   "cell_type": "markdown",
   "id": "7f782935",
   "metadata": {},
   "source": [
    "## Simple Linear Regression"
   ]
  },
  {
   "cell_type": "code",
   "execution_count": null,
   "id": "a64aa878",
   "metadata": {
    "scrolled": true
   },
   "outputs": [],
   "source": [
    "import numpy as np\n",
    "import pandas as pd\n",
    "from sklearn.linear_model import LinearRegression\n",
    "from sklearn.model_selection import train_test_split"
   ]
  },
  {
   "cell_type": "code",
   "execution_count": null,
   "id": "9d92ea3a",
   "metadata": {},
   "outputs": [],
   "source": [
    "ds = pd.read_csv('weight-height.csv')\n",
    "ds = ds.drop(['Gender'],axis=1)"
   ]
  },
  {
   "cell_type": "code",
   "execution_count": null,
   "id": "67af7fbf",
   "metadata": {},
   "outputs": [],
   "source": [
    "X=ds['Height'].values.reshape(10000,1)\n",
    "y=ds['Weight'].values.reshape(10000,1)"
   ]
  },
  {
   "cell_type": "code",
   "execution_count": null,
   "id": "a5ad4f01",
   "metadata": {},
   "outputs": [],
   "source": [
    "model = LinearRegression()\n",
    "X_train, X_test, y_train, y_test = train_test_split(X, y, test_size=0.20, random_state=42)\n",
    "model.fit(X_train , y_train)\n",
    "y_pred = model.predict(X_test)"
   ]
  },
  {
   "cell_type": "code",
   "execution_count": null,
   "id": "38237c17",
   "metadata": {},
   "outputs": [],
   "source": [
    "test_pred = np.hstack([y_test, y_pred])\n",
    "print(test_pred)"
   ]
  },
  {
   "cell_type": "code",
   "execution_count": null,
   "id": "bf22092e",
   "metadata": {},
   "outputs": [],
   "source": [
    "import joblib\n",
    "joblib.dump(model , 'weight-height-model.pk1')"
   ]
  }
 ],
 "metadata": {
  "kernelspec": {
   "display_name": "Python 3",
   "language": "python",
   "name": "python3"
  },
  "language_info": {
   "codemirror_mode": {
    "name": "ipython",
    "version": 3
   },
   "file_extension": ".py",
   "mimetype": "text/x-python",
   "name": "python",
   "nbconvert_exporter": "python",
   "pygments_lexer": "ipython3",
   "version": "3.6.8"
  }
 },
 "nbformat": 4,
 "nbformat_minor": 5
}
